{
    "cells": [
        {
            "cell_type": "markdown",
            "metadata": {
                "collapsed": true
            },
            "source": "#  My Jupyter Notebook on IBM Watson Studio"
        },
        {
            "cell_type": "markdown",
            "metadata": {},
            "source": "**Swati Menon**\n\n  **PGDM Student**\n "
        },
        {
            "cell_type": "markdown",
            "metadata": {},
            "source": "_I'am highly interested in pursuing data science in the field of Data visualization where i can refer to the techniques used to communicate data or information by encoding visual objects containing graphics._"
        },
        {
            "cell_type": "markdown",
            "metadata": {},
            "source": "### The code is supposed to find the mode for x and y variable."
        },
        {
            "cell_type": "code",
            "execution_count": 2,
            "metadata": {},
            "outputs": [],
            "source": "x = 24 \ny = 2\nz = x%y"
        },
        {
            "cell_type": "code",
            "execution_count": 3,
            "metadata": {},
            "outputs": [
                {
                    "name": "stdout",
                    "output_type": "stream",
                    "text": "0\n"
                }
            ],
            "source": "print(z)"
        },
        {
            "cell_type": "markdown",
            "metadata": {},
            "source": "##### Learnings\n+ ~~Using Watson Studio~~\n\n+ ~~Working in Jupyter~~\n\n##### link : \nhttps://eu-gb.dataplatform.cloud.ibm.com/analytics/notebooks"
        },
        {
            "cell_type": "code",
            "execution_count": null,
            "metadata": {},
            "outputs": [],
            "source": ""
        },
        {
            "cell_type": "code",
            "execution_count": null,
            "metadata": {},
            "outputs": [],
            "source": ""
        }
    ],
    "metadata": {
        "kernelspec": {
            "display_name": "Python 3.6",
            "language": "python",
            "name": "python3"
        },
        "language_info": {
            "codemirror_mode": {
                "name": "ipython",
                "version": 3
            },
            "file_extension": ".py",
            "mimetype": "text/x-python",
            "name": "python",
            "nbconvert_exporter": "python",
            "pygments_lexer": "ipython3",
            "version": "3.6.9"
        }
    },
    "nbformat": 4,
    "nbformat_minor": 1
}